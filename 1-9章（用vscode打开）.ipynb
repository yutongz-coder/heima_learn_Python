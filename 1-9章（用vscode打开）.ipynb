{
 "cells": [
  {
   "cell_type": "code",
   "execution_count": 1,
   "metadata": {},
   "outputs": [
    {
     "name": "stdout",
     "output_type": "stream",
     "text": [
      "hello world\n"
     ]
    }
   ],
   "source": [
    "print(\"hello world\")"
   ]
  },
  {
   "cell_type": "code",
   "execution_count": 2,
   "metadata": {},
   "outputs": [
    {
     "name": "stdout",
     "output_type": "stream",
     "text": [
      "你好\n"
     ]
    }
   ],
   "source": [
    "print(\"你好\")"
   ]
  },
  {
   "cell_type": "markdown",
   "metadata": {},
   "source": [
    "黑马程序员第一章总结：\n",
    "1989：python起源：吉多范罗苏姆\n",
    "1991，第一个python解释器诞生\n",
    "什么是编程语言：\n",
    "    概念：人类和计算机交流的语言\n",
    "    工作原理：将人类想法翻译成计算机可以识别的二进制\n",
    "python中标点符号一定要是英文符号\n",
    "常见报错：SyntaxError:invalid character,意思是标点符号写成了中文\n",
    "python的解释器程序：<Python>的安装目录/python.exe\n",
    "python的开发环境：IDE工具PyCharm"
   ]
  },
  {
   "cell_type": "markdown",
   "metadata": {},
   "source": [
    "字面量：在代码中，被写下来的固定的值\n",
    "常见的有6种数据类型：数字Number（整数int，浮点数float，复数complex，布尔bool），字符串String，列表List，元组Tuple，集合Set，字典Dictionary。\n",
    "字符串：需要用\" \"包含起来，如\"黑马\""
   ]
  },
  {
   "cell_type": "code",
   "execution_count": 1,
   "metadata": {},
   "outputs": [
    {
     "data": {
      "text/plain": [
       "'黑马'"
      ]
     },
     "execution_count": 1,
     "metadata": {},
     "output_type": "execute_result"
    }
   ],
   "source": [
    "\"黑马\""
   ]
  },
  {
   "cell_type": "code",
   "execution_count": 2,
   "metadata": {},
   "outputs": [
    {
     "name": "stdout",
     "output_type": "stream",
     "text": [
      "13.14\n"
     ]
    }
   ],
   "source": [
    "print(13.14)"
   ]
  },
  {
   "cell_type": "markdown",
   "metadata": {},
   "source": [
    "单行注释：# 写一个字符串字面量，建议注释和内容之间用一个空格隔开\n",
    "多行注释：对python文件解释（放在开头）或者对类进行解释\n",
    "\"\"\"\n",
    "黑马\n",
    "\"\"\""
   ]
  },
  {
   "cell_type": "code",
   "execution_count": null,
   "metadata": {},
   "outputs": [
    {
     "name": "stdout",
     "output_type": "stream",
     "text": [
      "666\n"
     ]
    }
   ],
   "source": [
    "\"\"\"\n",
    "本代码演示各类字面量写法，多行注释\n",
    "\"\"\"\n",
    "# 打印整数字面量666，单行注释\n",
    "print(666)\n"
   ]
  },
  {
   "cell_type": "markdown",
   "metadata": {},
   "source": [
    "变量：程序运行时，记录数据\n",
    "定义格式：变量名=变量值\n",
    "变量特征：变量的值可以发生改变"
   ]
  },
  {
   "cell_type": "code",
   "execution_count": 6,
   "metadata": {},
   "outputs": [
    {
     "name": "stdout",
     "output_type": "stream",
     "text": [
      "钱包= 50 元\n",
      "还剩余= 40 元\n",
      "now is 1pm, we have 40\n"
     ]
    }
   ],
   "source": [
    "# 定义变量记录钱包余额\n",
    "money = 50\n",
    "# 输出变量记录的内容\n",
    "print(\"钱包=\",money,\"元\")\n",
    "# 买了一个冰淇淋，花了10元\n",
    "money = money - 10\n",
    "print(\"还剩余=\",money,\"元\")\n",
    "#假设每隔一小时，输出一下钱包的余额\n",
    "print(\"now is 1pm, we have\", money)"
   ]
  },
  {
   "cell_type": "markdown",
   "metadata": {},
   "source": [
    "type(被查看类型的数据)\n",
    "print(type(11.34))"
   ]
  },
  {
   "cell_type": "code",
   "execution_count": 8,
   "metadata": {},
   "outputs": [
    {
     "name": "stdout",
     "output_type": "stream",
     "text": [
      "<class 'str'>\n",
      "<class 'int'>\n",
      "<class 'float'>\n"
     ]
    }
   ],
   "source": [
    "print(type(\"hi\"))\n",
    "print(type(123))\n",
    "print(type(11.23))"
   ]
  },
  {
   "cell_type": "code",
   "execution_count": 10,
   "metadata": {},
   "outputs": [
    {
     "name": "stdout",
     "output_type": "stream",
     "text": [
      "<class 'str'>\n",
      "<class 'int'>\n",
      "<class 'float'>\n"
     ]
    }
   ],
   "source": [
    "# 使用type直接查看输出类型信息\n",
    "# 使用变量储存type（）语句的结果\n",
    "string_type=type(\"hello\")\n",
    "int_type=type(123)\n",
    "float_type=type(11.23)\n",
    "print(string_type)\n",
    "print(int_type)\n",
    "print(float_type)"
   ]
  },
  {
   "cell_type": "markdown",
   "metadata": {},
   "source": [
    "变量没有类型，数据才有类型\n",
    "数据类型在特定场景下可以转换\n",
    "int(x)将x转换为一个整数\n",
    "float（x）将x转换为一个浮点数\n",
    "str(x)转换为字符串"
   ]
  },
  {
   "cell_type": "code",
   "execution_count": 17,
   "metadata": {},
   "outputs": [
    {
     "name": "stdout",
     "output_type": "stream",
     "text": [
      "<class 'str'> 11.21\n",
      "<class 'int'> 11\n",
      "<class 'float'> 11.0\n"
     ]
    }
   ],
   "source": [
    "# 将数字转换为字符串\n",
    "num_str=str(11.21)\n",
    "print(type(num_str),num_str)\n",
    "num_int=int(11.11)\n",
    "print(type(num_int),num_int)\n",
    "num_float=float(11)\n",
    "print(type(num_float),num_float)"
   ]
  },
  {
   "cell_type": "markdown",
   "metadata": {},
   "source": [
    "标识符只允许：推荐英文，数字，下划线\n",
    "数字不可以用在开头，下划线可以出现在开头\n",
    "不可以用关键字\n",
    "关键字大小写敏感"
   ]
  },
  {
   "cell_type": "code",
   "execution_count": null,
   "metadata": {},
   "outputs": [
    {
     "name": "stdout",
     "output_type": "stream",
     "text": [
      "1\n"
     ]
    }
   ],
   "source": [
    "# 规则1：内容限定\n",
    "\n",
    "# 大小写敏感\n",
    "Class = 1\n",
    "print(Class)\n",
    "# 不可使用关键字"
   ]
  },
  {
   "cell_type": "markdown",
   "metadata": {},
   "source": [
    "下划线命名法：student_name"
   ]
  },
  {
   "cell_type": "code",
   "execution_count": 22,
   "metadata": {},
   "outputs": [
    {
     "name": "stdout",
     "output_type": "stream",
     "text": [
      "5\n",
      "0\n",
      "16\n"
     ]
    }
   ],
   "source": [
    "# 算术（数学）运算符\n",
    "# 取整除\n",
    "print(11//2)\n",
    "# 取余数\n",
    "print(9%3)\n",
    "# 指数\n",
    "print(2**4)"
   ]
  },
  {
   "cell_type": "markdown",
   "metadata": {},
   "source": [
    "复合赋值运算\n",
    "+=表示：num += 1表示 num = num + 1\n",
    "**=\n",
    "*=\n",
    "//=\n",
    "/="
   ]
  },
  {
   "cell_type": "code",
   "execution_count": 24,
   "metadata": {},
   "outputs": [
    {
     "name": "stdout",
     "output_type": "stream",
     "text": [
      "1\n"
     ]
    }
   ],
   "source": [
    "num = 5\n",
    "num %= 2\n",
    "print(num)"
   ]
  },
  {
   "cell_type": "code",
   "execution_count": null,
   "metadata": {},
   "outputs": [
    {
     "name": "stdout",
     "output_type": "stream",
     "text": [
      "<class 'str'>\n",
      "<class 'str'>\n",
      "'heima'\n",
      "<class 'str'>\n"
     ]
    }
   ],
   "source": [
    "# 单引号定义字符串\n",
    "name = 'heima'\n",
    "print(type(name))\n",
    "# 双引号定义字符串\n",
    "name = \"heima\"\n",
    "print(type(name))\n",
    "# 定义包含单引号的字符串，用双引号定义，定义包含双引号的字符串，用单引号定义\n",
    "# 或者可以用转义字符，用\\接触引号效用\n",
    "name = \"'heima'\"\n",
    "print(name)\n",
    "# 三引号定义字符串\n",
    "name = \"\"\"heima\"\"\"\n",
    "print(type(name))"
   ]
  },
  {
   "cell_type": "code",
   "execution_count": null,
   "metadata": {},
   "outputs": [
    {
     "name": "stdout",
     "output_type": "stream",
     "text": [
      "heima\n",
      "i am:heima my address is:xian\n"
     ]
    }
   ],
   "source": [
    "# 掌握如何拼接字符串\n",
    "print(\"hei\" + \"ma\")\n",
    "# 拼接变量和自变量\n",
    "name = \"heima\"\n",
    "address = \"xian\"\n",
    "print(\"i am:\" + name, \"my address is:\" + address)\n",
    "tel = 10010\n",
    "# print(\"my tel:\" + tel)\n",
    "# 字符串只能和字符串拼接，不能和整数拼接\n"
   ]
  },
  {
   "cell_type": "code",
   "execution_count": null,
   "metadata": {},
   "outputs": [
    {
     "name": "stdout",
     "output_type": "stream",
     "text": [
      "python number:57\n",
      "avg_salary:16781\n"
     ]
    }
   ],
   "source": [
    "# 字符串格式化\n",
    "# %表示我要占位，s表示将变量变成字符串放入占位的地方\n",
    "# 可以通过占位的方式完成数字的拼接，将数字转换成字符串了去占位\n",
    "class_num = 57\n",
    "avg_salary = 16781\n",
    "message = \"python number:%s\" % class_num\n",
    "print(message)\n",
    "print(\"avg_salary:%s\" % avg_salary)\n",
    "# %s %d将内容转换成整数占位 %f将内容转换为浮点数占位"
   ]
  },
  {
   "cell_type": "code",
   "execution_count": null,
   "metadata": {},
   "outputs": [
    {
     "name": "stdout",
     "output_type": "stream",
     "text": [
      "chuanzhi was setup in 2006, its stockprice is 19.990000\n"
     ]
    }
   ],
   "source": [
    "name = \"chuanzhi\"\n",
    "setup_year = 2006\n",
    "stock_price = 19.99\n",
    "# 多个占位用括号括起来\n",
    "message = \"%s was setup in %d, its stockprice is %f\" % (name, setup_year, stock_price)\n",
    "print(message)\n",
    "# 没有对数字进行精度控制，所以是19.990000输出"
   ]
  },
  {
   "cell_type": "code",
   "execution_count": 43,
   "metadata": {},
   "outputs": [
    {
     "name": "stdout",
     "output_type": "stream",
     "text": [
      "数字11限制宽度5：   11\n",
      "数字11限制宽度3精度2：11.00\n",
      "11.345宽度限制7，精度2：  11.21\n",
      "11.345不限制宽度，精度1：11.2\n"
     ]
    }
   ],
   "source": [
    "\"\"\"\n",
    "字符串格式化-数字精度控制\n",
    "可以使用m.n来控制数据的宽度和精度\n",
    "其中m控制宽度，设置的宽度小于数字自身不生效，这个很少使用\n",
    "n控制小数点精度，要求是数字，会进行小数的四舍五入\n",
    "例子：\n",
    "%5d：表示将整数宽度控制在5位，如数字11，被设置为5d，就会变成：空格空格空格11，用三个空格补足宽度\n",
    "%5.2f：表示将宽度控制为5，精度为2\n",
    "小数点和小数部分也算入宽度\n",
    "例子：\n",
    "对11.345设置了%7.2f之后就变成：空空11.35,2个空格补足宽度，小数部分四舍五入\n",
    "%.2f:表示不限制宽度，只设置小数点精度为2,11.345设置之后为11.35\n",
    "\"\"\"\n",
    "num1 = 11\n",
    "num2 = 11.21\n",
    "print(\"数字11限制宽度5：%5d\" % num1)\n",
    "print(\"数字11限制宽度3精度2：%3.2f\" % num1)\n",
    "print(\"11.345宽度限制7，精度2：%7.2f\" % num2)\n",
    "print(\"11.345不限制宽度，精度1：%.1f\" % num2)\n",
    "\n"
   ]
  },
  {
   "cell_type": "code",
   "execution_count": 44,
   "metadata": {},
   "outputs": [
    {
     "name": "stdout",
     "output_type": "stream",
     "text": [
      "i amheima, i was setup in 2006, my stock price is 19.99\n"
     ]
    }
   ],
   "source": [
    "# 快速格式化的方式\n",
    "# 在字符串前面用f来快速格式化\n",
    "# 快速格式化不限数据类型，也不做精度控制\n",
    "name = \"heima\"\n",
    "setup_year = 2006\n",
    "stock_price = 19.99\n",
    "# f: format\n",
    "print(f\"i am{name}, i was setup in {setup_year}, my stock price is {stock_price}\")"
   ]
  },
  {
   "cell_type": "code",
   "execution_count": null,
   "metadata": {},
   "outputs": [
    {
     "name": "stdout",
     "output_type": "stream",
     "text": [
      "1*1=1\n",
      "1*1=1\n",
      "string_type is: <class 'str'>\n",
      "string_type：<class 'str'>\n",
      "string_type:<class 'type'>\n"
     ]
    }
   ],
   "source": [
    "# 对表达式进行字符串格式化\n",
    "# 表达式：一条具有明确执行结果的代码语句\n",
    "print(\"1*1=%d\" % (1*1))\n",
    "print(f\"1*1={1*1}\")\n",
    "print(\"string_type is: %s\" % type(\"string_type\"))\n",
    "print(f\"string_type：{string_type}\")\n",
    "print(f\"string_type:{type(string_type)}\") #注意这个的输出"
   ]
  },
  {
   "cell_type": "code",
   "execution_count": null,
   "metadata": {},
   "outputs": [
    {
     "name": "stdout",
     "output_type": "stream",
     "text": [
      "1*1=1\n",
      "1*1=1\n"
     ]
    }
   ],
   "source": [
    "print(f\"1*1={1*1}\") # 快速格式化\n",
    "print(\"1*1=%d\" % (1*1)) # 占位符"
   ]
  },
  {
   "cell_type": "code",
   "execution_count": 58,
   "metadata": {},
   "outputs": [
    {
     "name": "stdout",
     "output_type": "stream",
     "text": [
      "公司名字:heima,股票代码:007,当前股价:71.63\n",
      "每日增长系数是：1.200000,经过7的增长后，股价达到了了：71.630000\n"
     ]
    }
   ],
   "source": [
    "stock_price_daily_growth_factor = 1.2\n",
    "growth_days = 7\n",
    "stock_price = 71.63\n",
    "name = \"heima\"\n",
    "stock_code = \"007\"\n",
    "print(f\"公司名字:{name},股票代码:{stock_code},当前股价:{stock_price}\")\n",
    "print(\"每日增长系数是：%f,经过%d的增长后，股价达到了了：%f\" % (stock_price_daily_growth_factor,growth_days,stock_price))"
   ]
  },
  {
   "cell_type": "code",
   "execution_count": 61,
   "metadata": {},
   "outputs": [
    {
     "name": "stdout",
     "output_type": "stream",
     "text": [
      "please tell me who you are\n",
      "get, you are:\n"
     ]
    }
   ],
   "source": [
    "# 数据输入input\n",
    "print(\"please tell me who you are\")\n",
    "name = input()\n",
    "print(\"get, you are:%s\" % name)"
   ]
  },
  {
   "cell_type": "code",
   "execution_count": null,
   "metadata": {},
   "outputs": [
    {
     "name": "stdout",
     "output_type": "stream",
     "text": [
      "i know your name:\n"
     ]
    }
   ],
   "source": [
    "name = input(\"tell me who you are？  \")\n",
    "print(f\"i know your name:{name}\" )\n",
    "# 这个代码貌似无法在这里运行"
   ]
  },
  {
   "cell_type": "markdown",
   "metadata": {},
   "source": [
    "input()语句的功能是获取键盘输入的数据\n",
    "可以使用：input（提示信息），用以在使用者输入内容之前显示提示信息\n",
    "注意，无论键盘输入什么类型的数据，获取到的数据永远都是字符串类型"
   ]
  },
  {
   "cell_type": "code",
   "execution_count": 68,
   "metadata": {},
   "outputs": [
    {
     "name": "stdout",
     "output_type": "stream",
     "text": [
      "hello：zyt, you are a:student\n"
     ]
    }
   ],
   "source": [
    "user_name = \"zyt\"\n",
    "user_type = \"student\"\n",
    "print(f\"hello：{user_name}, you are a:{user_type}\")"
   ]
  },
  {
   "cell_type": "code",
   "execution_count": null,
   "metadata": {},
   "outputs": [
    {
     "name": "stdout",
     "output_type": "stream",
     "text": [
      "10>5的结果是：True，类型是：<class 'bool'>\n"
     ]
    }
   ],
   "source": [
    "# 布尔类型和比较运算符，true表示真，false表示假\n",
    "result = 10 > 5\n",
    "print(f\"10>5的结果是：{result}，类型是：{type(result)}\")\n",
    "# 注意type的True和False首字母大写"
   ]
  },
  {
   "cell_type": "markdown",
   "metadata": {},
   "source": [
    "比较运算符：==，！=，>,<,>=,<="
   ]
  },
  {
   "cell_type": "code",
   "execution_count": null,
   "metadata": {},
   "outputs": [
    {
     "name": "stdout",
     "output_type": "stream",
     "text": [
      "True,<class 'bool'>\n",
      "if num1=num2:False\n",
      "if num1 not equals to num2: True\n"
     ]
    }
   ],
   "source": [
    "\"\"\"\n",
    "演示布尔类型的定义\n",
    "比较运算符的应用\n",
    "\"\"\"\n",
    "# 定义变量存储布尔类型的数据\n",
    "bool_1 = True\n",
    "print(f\"{bool_1},{type(bool_1)}\")\n",
    "num1 = 10\n",
    "num2 = 15\n",
    "print(f\"if num1=num2:{num1 == num2}\")\n",
    "print(f\"if num1 not equals to num2: {num1!=num2}\")\n"
   ]
  },
  {
   "cell_type": "code",
   "execution_count": null,
   "metadata": {},
   "outputs": [
    {
     "name": "stdout",
     "output_type": "stream",
     "text": [
      "free\n"
     ]
    }
   ],
   "source": [
    "# 如果1，如果2，...多个如果的条件\n",
    "# 用if, elif, elif, else\n",
    "height = 180\n",
    "vip_level = 4\n",
    "vip_level = 4\n",
    "if(height <= 120):\n",
    "    print(\"not free\")\n",
    "elif(vip_level >= 3):\n",
    "    print(\"free\")\n",
    "else:\n",
    "    print(\"not free\")\n",
    "# 注意判断是互斥且有序的，上一个满足后面的就不会判断了，直接就输出了"
   ]
  },
  {
   "cell_type": "code",
   "execution_count": null,
   "metadata": {},
   "outputs": [],
   "source": [
    "# 判断语句的嵌套\n"
   ]
  },
  {
   "cell_type": "markdown",
   "metadata": {},
   "source": [
    "print(\"欢迎来到黑马动物园)\n",
    "if int(input(\"请输入你的身高：\")) > 120:\n",
    "    print(\"你的身高大于120，不可以免费\")\n",
    "    print(\"不过如果你的VIP等级高于3，可以免费\")\n",
    "\n",
    "    if int(input(\"请输入你的vip等级\")) > 3:\n",
    "        print(\"可以免费游玩\")\n",
    "    else:\n",
    "        print(\"不免费\")\n",
    "else:\n",
    "    print(\"欢迎小朋友\")\n"
   ]
  },
  {
   "cell_type": "code",
   "execution_count": null,
   "metadata": {},
   "outputs": [],
   "source": [
    "# 实战案例，要求：\n",
    "# 数字随机产生，有三次机会猜测数字，通过3层嵌套判断实现，猜不中会提示小了或者大了\n",
    "# 通过以下代码，定义变量num，变量内存储数字"
   ]
  },
  {
   "cell_type": "markdown",
   "metadata": {},
   "source": [
    "# 构建随机数字\n",
    "import random\n",
    "num = random.randint(1,10)\n",
    "# print(num)\n",
    "guess_num = int(input(\"输入你要猜测的数字:\"))\n",
    "#开始猜测\n",
    "if guess_num == num:\n",
    "    print(\"猜中了\")\n",
    "else:\n",
    "    if guess_num > num:\n",
    "        print(\"猜大了\")\n",
    "    else:\n",
    "        print(\"猜小了\")\n",
    "print(num)"
   ]
  },
  {
   "cell_type": "code",
   "execution_count": null,
   "metadata": {},
   "outputs": [
    {
     "name": "stdout",
     "output_type": "stream",
     "text": [
      "i like you\n",
      "i like you\n",
      "i like you\n",
      "i like you\n",
      "i like you\n",
      "i like you\n",
      "i like you\n",
      "i like you\n",
      "i like you\n",
      "i like you\n"
     ]
    }
   ],
   "source": [
    "# while循环，只要条件满足，就会无限循环执行\n",
    "i = 0\n",
    "while i < 10:\n",
    "    print(\"i like you\")\n",
    "    i += 1\n",
    "\n",
    "# while的条件需要得到布尔类型，True表示继续循环，False表示结束\n",
    "# 空格缩进不能忘记\n",
    "# 规划循环终止条件，否则将无限循环"
   ]
  },
  {
   "cell_type": "code",
   "execution_count": null,
   "metadata": {},
   "outputs": [
    {
     "name": "stdout",
     "output_type": "stream",
     "text": [
      "5050\n"
     ]
    }
   ],
   "source": [
    "# while循环计算1+到100的和\n",
    "sum = 0\n",
    "i = 1\n",
    "while i <= 100:\n",
    "    sum += i\n",
    "    i += 1 # 不要忘记给i加\n",
    "print(sum)"
   ]
  },
  {
   "cell_type": "code",
   "execution_count": null,
   "metadata": {},
   "outputs": [
    {
     "ename": "ValueError",
     "evalue": "invalid literal for int() with base 10: ''",
     "output_type": "error",
     "traceback": [
      "\u001b[1;31m---------------------------------------------------------------------------\u001b[0m",
      "\u001b[1;31mValueError\u001b[0m                                Traceback (most recent call last)",
      "Cell \u001b[1;32mIn[80], line 9\u001b[0m\n\u001b[0;32m      7\u001b[0m count \u001b[38;5;241m=\u001b[39m \u001b[38;5;241m0\u001b[39m\n\u001b[0;32m      8\u001b[0m \u001b[38;5;28;01mwhile\u001b[39;00m flag:\n\u001b[1;32m----> 9\u001b[0m     guess_num \u001b[38;5;241m=\u001b[39m \u001b[38;5;28mint\u001b[39m(\u001b[38;5;28minput\u001b[39m(\u001b[38;5;124m\"\u001b[39m\u001b[38;5;124m请输入你猜测的数据：\u001b[39m\u001b[38;5;124m\"\u001b[39m))\n\u001b[0;32m     10\u001b[0m     count \u001b[38;5;241m+\u001b[39m\u001b[38;5;241m=\u001b[39m \u001b[38;5;241m1\u001b[39m\n\u001b[0;32m     11\u001b[0m     \u001b[38;5;28;01mif\u001b[39;00m guess_num \u001b[38;5;241m==\u001b[39m num:\n",
      "\u001b[1;31mValueError\u001b[0m: invalid literal for int() with base 10: ''"
     ]
    }
   ],
   "source": [
    "# 生成随机数字\n",
    "import random\n",
    "num = random.randint(1,100)\n",
    "# 通过一个布尔类型的变量，做循环是否继续的标记\n",
    "flag = True\n",
    "# 记录猜测次数\n",
    "count = 0\n",
    "while flag:\n",
    "    guess_num = int(input(\"请输入你猜测的数据：\"))\n",
    "    count += 1\n",
    "    if guess_num == num:\n",
    "        print(\"猜中了\")\n",
    "        flag = False\n",
    "    else:\n",
    "        if guess_num > num:\n",
    "            print(\"猜大了\")\n",
    "        else:\n",
    "            print(\"猜小了\")\n",
    "print(f\"总共猜了{count}次\")\n",
    "# 需要在python文件中单独运行\n",
    "        \n",
    "\n",
    "\n"
   ]
  },
  {
   "cell_type": "code",
   "execution_count": 85,
   "metadata": {},
   "outputs": [
    {
     "name": "stdout",
     "output_type": "stream",
     "text": [
      "今天是第1天，准备表白：\n",
      "送给小美第1只\n",
      "送给小美第2只\n",
      "小美，我喜欢你\n",
      "今天是第2天，准备表白：\n",
      "送给小美第1只\n",
      "送给小美第2只\n",
      "小美，我喜欢你\n",
      "坚持到第2天，表白成功\n"
     ]
    }
   ],
   "source": [
    "# while循环的嵌套应用\n",
    "i = 1\n",
    "while i <= 2:\n",
    "    print(f\"今天是第{i}天，准备表白：\")\n",
    "    j = 1\n",
    "    while j <= 2:\n",
    "        print(f\"送给小美第{j}只\")\n",
    "        j += 1\n",
    "    print(\"小美，我喜欢你\")\n",
    "    i += 1\n",
    "print(f\"坚持到第{i-1}天，表白成功\")"
   ]
  },
  {
   "cell_type": "code",
   "execution_count": 89,
   "metadata": {},
   "outputs": [
    {
     "name": "stdout",
     "output_type": "stream",
     "text": [
      "Hello\n",
      "World\n",
      "Hello World\n",
      "hello\tWorld\n",
      "nihao\tshijie\n"
     ]
    }
   ],
   "source": [
    "print(\"Hello\")\n",
    "print(\"World\")\n",
    "# print 语句自动换行\n",
    "# 如果想要不换行的话：\n",
    "print(\"Hello\", end=' ')\n",
    "print(\"World\")\n",
    "# 字符串中，有一个特殊符号：\\t,效果等同于在键盘上按下tab键\n",
    "# 它可以让多行字符串进行对齐\n",
    "print(\"hello\\tWorld\")\n",
    "print(\"nihao\\tshijie\")"
   ]
  },
  {
   "cell_type": "code",
   "execution_count": null,
   "metadata": {},
   "outputs": [
    {
     "name": "stdout",
     "output_type": "stream",
     "text": [
      "\t1*1=1\n",
      "\t1*2=2\t2*2=4\n",
      "\t1*3=3\t2*3=6\t3*3=9\n",
      "\t1*4=4\t2*4=8\t3*4=12\t4*4=16\n",
      "\t1*5=5\t2*5=10\t3*5=15\t4*5=20\t5*5=25\n",
      "\t1*6=6\t2*6=12\t3*6=18\t4*6=24\t5*6=30\t6*6=36\n",
      "\t1*7=7\t2*7=14\t3*7=21\t4*7=28\t5*7=35\t6*7=42\t7*7=49\n",
      "\t1*8=8\t2*8=16\t3*8=24\t4*8=32\t5*8=40\t6*8=48\t7*8=56\t8*8=64\n",
      "\t1*9=9\t2*9=18\t3*9=27\t4*9=36\t5*9=45\t6*9=54\t7*9=63\t8*9=72\t9*9=81\n"
     ]
    }
   ],
   "source": [
    "# 使用while嵌套循环，打印输出的九九乘法表\n",
    "\n",
    "# 定义外层循环的控制变量\n",
    "i = 1\n",
    "while i <= 9:\n",
    "    # 定义内层循环控制变量\n",
    "    j = 1\n",
    "    while j <= i:\n",
    "        print(f\"{j}*{i}={j*i}\\t\", end='')\n",
    "        j += 1\n",
    "    i += 1\n",
    "    print()     # print空内容就是输出换行"
   ]
  },
  {
   "cell_type": "code",
   "execution_count": null,
   "metadata": {},
   "outputs": [
    {
     "name": "stdout",
     "output_type": "stream",
     "text": [
      "itheima"
     ]
    }
   ],
   "source": [
    "# for循环\n",
    "# while循环的条件是自定义的，自行控制循环条件\n",
    "# for循环是一种轮询机制，是对一批内容进行逐个处理\n",
    "name = \"itheima\"\n",
    "# for循环处理字符串\n",
    "for x in name:\n",
    "    print(x,end='')\n",
    "\n",
    "# for临时变量in待处理数据(序列）：\n",
    "    #循环满足时执行的代码"
   ]
  },
  {
   "cell_type": "code",
   "execution_count": 10,
   "metadata": {},
   "outputs": [
    {
     "name": "stdout",
     "output_type": "stream",
     "text": [
      "有4个a\n"
     ]
    }
   ],
   "source": [
    "name = \"itheima is a brand of itcast\"\n",
    "count = 0\n",
    "for x in name:\n",
    "    if x == \"a\":\n",
    "        count +=1\n",
    "print(f\"有{count}个a\")"
   ]
  },
  {
   "cell_type": "code",
   "execution_count": 14,
   "metadata": {},
   "outputs": [
    {
     "name": "stdout",
     "output_type": "stream",
     "text": [
      "0 1 2 3 4 5 6 7 8 9 \n",
      "5 6 7 8 9 \n",
      "4 6 8 \n"
     ]
    }
   ],
   "source": [
    "# range(num)获取一个从0开始，到num结束的数字序列（不含num本身）\n",
    "# range(num1,num2)获得一个从num1到num2结束的数字序列（不含num2本身）\n",
    "# range(num1,num2,step)\n",
    "for x in range(10):\n",
    "    print(x,end=' ')\n",
    "print()\n",
    "\n",
    "for y in range(5,10):\n",
    "    print(y,end=' ')\n",
    "print()\n",
    "\n",
    "for z in range(4,10,2):\n",
    "    print(z,end=' ')\n",
    "print()"
   ]
  },
  {
   "cell_type": "code",
   "execution_count": 18,
   "metadata": {},
   "outputs": [
    {
     "name": "stdout",
     "output_type": "stream",
     "text": [
      "2 4 6 8 \n",
      "4\n"
     ]
    }
   ],
   "source": [
    "num = 10\n",
    "count = 0\n",
    "for x in range(1,num):\n",
    "    if x%2 == 0:\n",
    "        count += 1\n",
    "        print(x,end=' ')\n",
    "print()\n",
    "print(count)"
   ]
  },
  {
   "cell_type": "code",
   "execution_count": null,
   "metadata": {},
   "outputs": [],
   "source": [
    "# 访问变量作用域"
   ]
  },
  {
   "cell_type": "code",
   "execution_count": 22,
   "metadata": {},
   "outputs": [
    {
     "name": "stdout",
     "output_type": "stream",
     "text": [
      "今天是第1天\n",
      "送你第1朵\n",
      "送你第2朵\n",
      "喜欢你\n",
      "今天是第2天\n",
      "送你第1朵\n",
      "送你第2朵\n",
      "喜欢你\n",
      "第2天，表白成功\n"
     ]
    }
   ],
   "source": [
    "# for循环的嵌套使用\n",
    "for i in range(1,3):\n",
    "    print(f\"今天是第{i}天\")\n",
    "    for j in range(1,3):\n",
    "        print(f\"送你第{j}朵\")\n",
    "    print(\"喜欢你\")\n",
    "print(f\"第{i}天，表白成功\")"
   ]
  },
  {
   "cell_type": "code",
   "execution_count": 23,
   "metadata": {},
   "outputs": [
    {
     "name": "stdout",
     "output_type": "stream",
     "text": [
      "语句1\n",
      "语句1\n",
      "语句1\n",
      "语句1\n",
      "语句1\n"
     ]
    }
   ],
   "source": [
    "for i in range(1,6):\n",
    "    print(\"语句1\")\n",
    "    continue\n",
    "    print(\"语句2\")"
   ]
  },
  {
   "cell_type": "code",
   "execution_count": null,
   "metadata": {},
   "outputs": [
    {
     "name": "stdout",
     "output_type": "stream",
     "text": [
      "语句1\n",
      "语句2\n",
      "语句4\n",
      "语句1\n",
      "语句2\n",
      "语句4\n"
     ]
    }
   ],
   "source": [
    "# continue关键字只可以控制：它所在的循环临时中断\n",
    "for i in range(1,3):\n",
    "    print(\"语句1\")\n",
    "    for j in range(1,3):\n",
    "        print(\"语句2\")\n",
    "        #continue \n",
    "        # continue只结束内层本次循环\n",
    "        break \n",
    "        # 观察一下continue和break的区别，break结束整个内层循环\n",
    "        # continue和break都只影响所在的循环\n",
    "        print(\"语句3\")\n",
    "\n",
    "    print(\"语句4\")"
   ]
  },
  {
   "cell_type": "markdown",
   "metadata": {},
   "source": [
    "for i in range(1,100):\n",
    "    语句1\n",
    "    continue \n",
    "    语句2\n",
    "# continue 是循环中断语句\n",
    "# 在循环内，遇到continue就结束当次循环，进行下一次，所以语句2不会执行，应用场景是，在循环中，因某些原因，临时结束本次循环"
   ]
  },
  {
   "cell_type": "markdown",
   "metadata": {},
   "source": [
    "for i in range(1,100)\n",
    "    语句1\n",
    "    break\n",
    "    语句2\n",
    "语句3\n",
    "# 在循环内，遇到break就结束循环了\n",
    "# 所以执行语句1之后就直接执行语句3"
   ]
  },
  {
   "cell_type": "code",
   "execution_count": 24,
   "metadata": {},
   "outputs": [
    {
     "name": "stdout",
     "output_type": "stream",
     "text": [
      "语句1\n"
     ]
    }
   ],
   "source": [
    "for i in range(1,6):\n",
    "    print(\"语句1\")\n",
    "    break\n",
    "    print(\"语句2\")"
   ]
  },
  {
   "cell_type": "code",
   "execution_count": 37,
   "metadata": {},
   "outputs": [
    {
     "name": "stdout",
     "output_type": "stream",
     "text": [
      "员工1,绩效分6,发放工资1000，账户余额还剩下9000\n",
      "员工2,绩效分10,发放工资1000，账户余额还剩下8000\n",
      "员工3,绩效分2,低于5，不发工资，下一位\n",
      "员工4,绩效分8,发放工资1000，账户余额还剩下7000\n",
      "员工5,绩效分4,低于5，不发工资，下一位\n",
      "员工6,绩效分10,发放工资1000，账户余额还剩下6000\n",
      "员工7,绩效分7,发放工资1000，账户余额还剩下5000\n",
      "员工8,绩效分8,发放工资1000，账户余额还剩下4000\n",
      "员工9,绩效分2,低于5，不发工资，下一位\n",
      "员工10,绩效分5,发放工资1000，账户余额还剩下3000\n",
      "员工11,绩效分10,发放工资1000，账户余额还剩下2000\n",
      "员工12,绩效分1,低于5，不发工资，下一位\n",
      "员工13,绩效分1,低于5，不发工资，下一位\n",
      "员工14,绩效分7,发放工资1000，账户余额还剩下1000\n",
      "员工15,绩效分2,低于5，不发工资，下一位\n",
      "员工16,绩效分7,发放工资1000，账户余额还剩下0\n",
      "工资发完了，下个月领取吧\n"
     ]
    }
   ],
   "source": [
    "import random\n",
    "salary_sum = 10000\n",
    "for i in range (1,21):\n",
    "    num = random.randint(1,10)\n",
    "    jixiao = num\n",
    "    if salary_sum > 0:\n",
    "        if jixiao < 5:\n",
    "            print(f\"员工{i},绩效分{jixiao},低于5，不发工资，下一位\")\n",
    "            salary_sum = salary_sum\n",
    "            continue\n",
    "        else:\n",
    "            salary_sum -= 1000\n",
    "            print(f\"员工{i},绩效分{jixiao},发放工资1000，账户余额还剩下{salary_sum}\")\n",
    "            continue\n",
    "    else:\n",
    "        print(\"工资发完了，下个月领取吧\") \n",
    "        break       \n",
    "\n",
    "\n"
   ]
  },
  {
   "cell_type": "code",
   "execution_count": 39,
   "metadata": {},
   "outputs": [
    {
     "name": "stdout",
     "output_type": "stream",
     "text": [
      "7\n"
     ]
    }
   ],
   "source": [
    "name = \"itheima\"\n",
    "length = len(name)\n",
    "print(length)"
   ]
  },
  {
   "cell_type": "code",
   "execution_count": 40,
   "metadata": {},
   "outputs": [
    {
     "name": "stdout",
     "output_type": "stream",
     "text": [
      "7\n"
     ]
    }
   ],
   "source": [
    "str1 = \"itheima\"\n",
    "str2 = \"itcast\"\n",
    "\n",
    "count = 0\n",
    "for i in str1:\n",
    "    count += 1\n",
    "print(count)"
   ]
  },
  {
   "cell_type": "markdown",
   "metadata": {},
   "source": [
    "# 使用函数，是为了重复使用某个功能\n",
    "# 将功能封装在函数内，可随时重复利用，提高开发效率\n",
    "\n",
    "# 函数的定义：\n",
    "def 函数名（传入参数）：\n",
    "    函数体\n",
    "    return 返回值"
   ]
  },
  {
   "cell_type": "code",
   "execution_count": null,
   "metadata": {},
   "outputs": [
    {
     "name": "stdout",
     "output_type": "stream",
     "text": [
      "hii\n"
     ]
    }
   ],
   "source": [
    "def sayhi(): # 没有传入参数就是空括号\n",
    "    print(\"hii\")\n",
    "\n",
    "sayhi() # 调用函数\n",
    "# 参数如果不需要，可以省略\n",
    "# 返回值如果不需要，可以省略\n",
    "# 函数必须先定义后使用"
   ]
  },
  {
   "cell_type": "code",
   "execution_count": null,
   "metadata": {},
   "outputs": [
    {
     "name": "stdout",
     "output_type": "stream",
     "text": [
      "5+9=14\n"
     ]
    }
   ],
   "source": [
    "# 函数的参数\n",
    "# x和y称为形式参数，表示函数声明将要使用2个参数，参数之间用逗号隔开\n",
    "def add(x,y):\n",
    "    result = x+y\n",
    "    print(f\"{x}+{y}={result}\")\n",
    "add(5,9) # 5和9是实际参数"
   ]
  },
  {
   "cell_type": "code",
   "execution_count": 46,
   "metadata": {},
   "outputs": [
    {
     "name": "stdout",
     "output_type": "stream",
     "text": [
      "配合测体温\n",
      "abnormal\n"
     ]
    }
   ],
   "source": [
    "def check(num):\n",
    "    print(\"配合测体温\")\n",
    "    if num <= 37.5:\n",
    "        print(\"normal\")\n",
    "    else:\n",
    "        print(\"abnormal\")\n",
    "check(39)"
   ]
  },
  {
   "cell_type": "markdown",
   "metadata": {},
   "source": [
    "# 程序中的返回值\n",
    "# 语法格式如下：\n",
    "def 函数（参数...）：\n",
    "    函数体\n",
    "    return 返回值\n",
    "变量 = 函数（参数）"
   ]
  },
  {
   "cell_type": "code",
   "execution_count": null,
   "metadata": {},
   "outputs": [
    {
     "name": "stdout",
     "output_type": "stream",
     "text": [
      "7\n"
     ]
    }
   ],
   "source": [
    "def add(a,b):\n",
    "    result = a + b\n",
    "    return result\n",
    "# 函数的返回值可以用变量接收\n",
    "# 遇到return关键字，后面的代码都不执行了\n",
    "\n",
    "r = add(3,4)\n",
    "print(r)"
   ]
  },
  {
   "cell_type": "markdown",
   "metadata": {},
   "source": [
    "如果函数没有使用return语句返回数据，函数还是有返回值的\n",
    "python中有一个特殊的字面量：None,其类型是<class 'NoneType'>\n",
    "无返回值的函数，实际上就是返回了：None这个字面量\n",
    "None也可以手动主动返回"
   ]
  },
  {
   "cell_type": "code",
   "execution_count": null,
   "metadata": {},
   "outputs": [
    {
     "name": "stdout",
     "output_type": "stream",
     "text": [
      "你好呀\n",
      "无返回值函数，返回的内容是:None\n",
      "无返回值函数，返回的内容类型是：<class 'NoneType'>\n"
     ]
    }
   ],
   "source": [
    "# 无return语句的函数返回值\n",
    "def say_hi():\n",
    "    print(\"你好呀\")\n",
    "result = say_hi()\n",
    "print(f\"无返回值函数，返回的内容是:{result}\")\n",
    "print(f\"无返回值函数，返回的内容类型是：{type(result)}\")\n",
    "# 可以return None\n"
   ]
  },
  {
   "cell_type": "markdown",
   "metadata": {},
   "source": [
    "None的作用：\n",
    "用在if判断中，None等同于False，一般用于在函数中主动返回None，配合if判断做相关处理\n",
    "\n",
    "还可以用于声明无内容的变量，定义变量，但是暂时不需要变量有具体值，可以用None来代替，name = None"
   ]
  },
  {
   "cell_type": "code",
   "execution_count": 52,
   "metadata": {},
   "outputs": [
    {
     "name": "stdout",
     "output_type": "stream",
     "text": [
      "success\n"
     ]
    }
   ],
   "source": [
    "def check_age(age):\n",
    "    if age > 18:\n",
    "        return \"success\"\n",
    "    else:\n",
    "        return None\n",
    "result = check_age(19)\n",
    "if not result:\n",
    "    print(\"未成年禁止进入\")\n",
    "print(result)"
   ]
  },
  {
   "cell_type": "code",
   "execution_count": 54,
   "metadata": {},
   "outputs": [
    {
     "data": {
      "text/plain": [
       "7"
      ]
     },
     "execution_count": 54,
     "metadata": {},
     "output_type": "execute_result"
    }
   ],
   "source": [
    "def add(x,y):\n",
    "    \"\"\"\n",
    "    这是一个函数的说明文档：\n",
    "    add函数可以接收两个参数,进行2数相加的功能\n",
    "    :param x: 形式参数x表示相加的其中一个数字\n",
    "    :param y: 形式参数y表示相加的另一个数字\n",
    "    :return: 返回值是2数相加的结果\n",
    "    \"\"\"\n",
    "    result = x + y\n",
    "    return result\n",
    "add(3,4) #鼠标悬停的时候可以看到说明文档"
   ]
  },
  {
   "cell_type": "code",
   "execution_count": 56,
   "metadata": {},
   "outputs": [
    {
     "name": "stdout",
     "output_type": "stream",
     "text": [
      "---1---\n",
      "---2---\n",
      "---3---\n"
     ]
    }
   ],
   "source": [
    "def func_b():\n",
    "    print(\"---2---\")\n",
    "\n",
    "def func_a():\n",
    "    print(\"---1---\")\n",
    "\n",
    "    func_b()\n",
    "\n",
    "    print(\"---3---\")\n",
    "\n",
    "#调用函数func_a\n",
    "func_a()"
   ]
  },
  {
   "cell_type": "code",
   "execution_count": null,
   "metadata": {},
   "outputs": [
    {
     "name": "stdout",
     "output_type": "stream",
     "text": [
      "test_a:200\n",
      "test_b:500\n",
      "500\n"
     ]
    }
   ],
   "source": [
    "# 变量作用域指的是变量的作用范围（变量在哪里可以用，在哪里不可以用）\n",
    "# 主要分为：局部变量和全局变量\n",
    "# 局部变量只在函数体内部生效\n",
    "\n",
    "num = 200  # 演示全局变量num\n",
    "def test_a():\n",
    "    print(f\"test_a:{num}\")\n",
    "\n",
    "def test_b():\n",
    "    global num #声明num是全局变量，这样子最后打印出来的就变成500了\n",
    "    num = 500 #局部变量\n",
    "    print(f\"test_b:{num}\")\n",
    "\n",
    "test_a()\n",
    "test_b()\n",
    "print(num)"
   ]
  },
  {
   "cell_type": "code",
   "execution_count": null,
   "metadata": {},
   "outputs": [],
   "source": [
    "# 定义全局变量money name\n",
    "money = 5000000\n",
    "name = None\n",
    "\n",
    "# 要求客户输入姓名\n",
    "name = input(\"请输入您的姓名：\")\n",
    "# 定义查询函数\n",
    "def query(show_header):\n",
    "    if show_header:\n",
    "        print(\"---查询余额---\")\n",
    "    print(f\"{name}您好，您的余额剩余：{money}元\")\n",
    "\n",
    "# 定义存款函数\n",
    "def saving(num):\n",
    "    global money\n",
    "    money += num\n",
    "    print(\"---存款---\")\n",
    "    print(f\"{name}您好，您的余额剩余：{money}元\")\n",
    "    query(False)\n",
    "\n",
    "# 定义取款函数\n",
    "def get_money(num):\n",
    "    global money\n",
    "    money -= num\n",
    "    print(\"---取款---\")\n",
    "    print(f\"{name}您好，您的余额剩余：{money}元\")\n",
    "    query(False)\n",
    "# 定义主菜单函数\n",
    "def main():\n",
    "    print(\"---主菜单---\")\n",
    "    print(f\"{name}:欢迎，请选择操作：\")\n",
    "    print(\"查询余额\\t【输入1】\")\n",
    "    print(\"存款\\t\\t【输入2】\")\n",
    "    print(\"取款\\t\\t【输入3】\")\n",
    "    print(\"退出\\t\\t【输入4】\")\n",
    "    return input(\"请输入您的选择\")\n",
    "\n",
    "#设置无限循环，确保程序不退出\n",
    "while True:\n",
    "    keyboard_input = main()\n",
    "    if keyboard_input == \"1\":\n",
    "        query(True)\n",
    "        continue\n",
    "    elif keyboard_input == \"2\":\n",
    "        num = int(input(\"您想要存多少钱，请输入：\"))\n",
    "        saving(num)\n",
    "        continue\n",
    "    elif keyboard_input == \"3\":\n",
    "        num = int(input(\"您想要取多少钱，请输入：\"))\n",
    "        get_money(num)\n",
    "        continue\n",
    "    else:\n",
    "        print(\"程序退出\")\n",
    "        break\n",
    "        \n",
    "\n",
    "\n",
    "\n",
    "\n",
    "    \n",
    "# 设置无限循环，确保程序不退出\n"
   ]
  },
  {
   "cell_type": "markdown",
   "metadata": {},
   "source": [
    "数据容器：list,tuple,str,set,dict,分别是列表，元组，字符串，集合，字典"
   ]
  },
  {
   "cell_type": "code",
   "execution_count": null,
   "metadata": {},
   "outputs": [
    {
     "name": "stdout",
     "output_type": "stream",
     "text": [
      "['itheima', 666, True]\n",
      "<class 'list'>\n"
     ]
    }
   ],
   "source": [
    "# 列表\n",
    "# 以[]作为标识，列表内每一个元素之间用逗号隔开\n",
    "# 列表内每一个数据称之为元素\n",
    "# 列表中可以存储不同的数据类型\n",
    "my_list = ['itheima',666,True]\n",
    "print(my_list)\n",
    "print(type(my_list))"
   ]
  },
  {
   "cell_type": "code",
   "execution_count": 65,
   "metadata": {},
   "outputs": [
    {
     "name": "stdout",
     "output_type": "stream",
     "text": [
      "[1, 2, 3]\n",
      "<class 'list'>\n",
      "[4, 5, 6]\n",
      "<class 'list'>\n",
      "[[1, 2, 3], [4, 5, 6]]\n",
      "2\n"
     ]
    }
   ],
   "source": [
    "# 列表嵌套\n",
    "my_list = [[1,2,3],[4,5,6]]\n",
    "count = 0\n",
    "for i in my_list:\n",
    "    count +=1\n",
    "    print(i)\n",
    "    print(type(i))\n",
    "print(my_list)\n",
    "print(count)"
   ]
  },
  {
   "cell_type": "code",
   "execution_count": null,
   "metadata": {},
   "outputs": [
    {
     "name": "stdout",
     "output_type": "stream",
     "text": [
      "Tom\n",
      "Heima\n"
     ]
    }
   ],
   "source": [
    "# 使用列表的下标索引来取出数据\n",
    "# 第一个元素下标是0\n",
    "# 最后一个元素是-1,反向也能取\n",
    "name_list = [\"Tom\",\"Heima\"]\n",
    "print(name_list[0])\n",
    "print(name_list[-1])"
   ]
  },
  {
   "cell_type": "code",
   "execution_count": null,
   "metadata": {},
   "outputs": [
    {
     "name": "stdout",
     "output_type": "stream",
     "text": [
      "1\n"
     ]
    }
   ],
   "source": [
    "# 列表嵌套的元素索引\n",
    "my_list = [[1,2,3],[4,5,6]]\n",
    "print(my_list[0][0]) #注意这个写法，是把【】写在外面而不是里面\n",
    "# 超出可用范围是无法取出元素的"
   ]
  },
  {
   "cell_type": "code",
   "execution_count": 82,
   "metadata": {},
   "outputs": [
    {
     "name": "stdout",
     "output_type": "stream",
     "text": [
      "index=0\n",
      "new list=['chuanzhi', 'itcast', 'python']\n",
      "插入元素后:['chuanzhi', 'best', 'itcast', 'python']\n",
      "追加元素后['chuanzhi', 'best', 'itcast', 'python', [2, 2, 2]]\n",
      "追加列表后['chuanzhi', 'best', 'itcast', 'python', [2, 2, 2], 1, 2, 3]\n",
      "python\n",
      "pop之后的list:['itheima', 'itcast']\n",
      "1\n",
      "3\n"
     ]
    }
   ],
   "source": [
    "# 列表的常用操作\n",
    "# 列表的方法：插入元素，删除元素，清空列表，修改元素，统计元素个数\n",
    "my_list = [\"itheima\",\"itcast\",\"python\"]\n",
    "# 查找某元素的下标\n",
    "index = my_list.index(\"itheima\")\n",
    "print(f\"index={index}\")\n",
    "# 修改某个下标索引的值\n",
    "my_list[0] = \"chuanzhi\"\n",
    "print(f\"new list={my_list}\")\n",
    "# 插入元素，在指定下标位置插入元素\n",
    "my_list.insert(1,\"best\")\n",
    "print(f\"插入元素后:{my_list}\")\n",
    "# 追加元素\n",
    "a_list = [2,2,2]\n",
    "my_list.append(a_list)\n",
    "print(f\"追加元素后{my_list}\")\n",
    "# 在列表的尾部追加一批新元素\n",
    "my_list2 = [1,2,3]\n",
    "my_list.extend(my_list2)\n",
    "print(f\"追加列表后{my_list}\")\n",
    "# 删除指定元素\n",
    "my_list = [\"itheima\",\"itcast\",\"python\"]\n",
    "# del my_list[2]\n",
    "element = my_list.pop(2)\n",
    "print(element)\n",
    "print(f\"pop之后的list:{my_list}\")\n",
    "# remove从前往后搜索，但是只能删除搜索到的第一个元素，如果要删除两个，就要重复调用\n",
    "\n",
    "# 统计\n",
    "my_list = [\"itheima\",\"itcast\",\"python\"]\n",
    "count = my_list.count(\"itcast\")\n",
    "length = len(my_list)\n",
    "print(count)\n",
    "print(length)\n",
    "\n"
   ]
  },
  {
   "cell_type": "code",
   "execution_count": 83,
   "metadata": {},
   "outputs": [
    {
     "name": "stdout",
     "output_type": "stream",
     "text": [
      "6\n",
      "[21, 25, 21, 23, 22, 20, 31, 29, 33, 30]\n"
     ]
    }
   ],
   "source": [
    "my_list = [21,25,21,23,22,20]\n",
    "my_list.append(31)\n",
    "my_list.extend([29,33,30])\n",
    "num1 = my_list[0]\n",
    "num2 = my_list[-1]\n",
    "index = my_list.index(31)\n",
    "print(index)\n",
    "print(my_list)"
   ]
  },
  {
   "cell_type": "code",
   "execution_count": 87,
   "metadata": {},
   "outputs": [
    {
     "name": "stdout",
     "output_type": "stream",
     "text": [
      "列表的元素：heima\n",
      "列表的元素：chuanzhi\n",
      "列表的元素：python\n"
     ]
    }
   ],
   "source": [
    "# list列表的遍历\n",
    "def list_while_func():\n",
    "    \"\"\"\n",
    "    使用while循环遍历列表的演示函数\n",
    "    :return: None\n",
    "    \"\"\"\n",
    "    my_list = [\"heima\",\"chuanzhi\",\"python\"]\n",
    "    # 循环控制变量通过下标索引来控制，默认0\n",
    "    # 每一次循环将下标索引变量+1\n",
    "    # 循环条件：下标索引变量<列表元素数量\n",
    "\n",
    "    index = 0\n",
    "    while index < len(my_list):\n",
    "        element = my_list[index]\n",
    "        print(f\"列表的元素：{element}\")\n",
    "        index += 1\n",
    "\n",
    "list_while_func()"
   ]
  },
  {
   "cell_type": "code",
   "execution_count": null,
   "metadata": {},
   "outputs": [
    {
     "name": "stdout",
     "output_type": "stream",
     "text": [
      "1\n",
      "2\n",
      "3\n",
      "4\n",
      "5\n"
     ]
    }
   ],
   "source": [
    "def list_for_func():\n",
    "    my_list = [1,2,3,4,5]\n",
    "    for element in my_list:\n",
    "        print(element)\n",
    "\n",
    "list_for_func()"
   ]
  },
  {
   "cell_type": "markdown",
   "metadata": {},
   "source": [
    "for循环的语法：\n",
    "for 临时变量 in 数据容器\n",
    "    对临时变量进行处理\n",
    "\n",
    "for循环和while循环对比：\n",
    "for循环更加简单，while更加灵活\n",
    "for用于从容器中依次取出元素并处理，while用以任何需要循环的场景"
   ]
  },
  {
   "cell_type": "code",
   "execution_count": 94,
   "metadata": {},
   "outputs": [
    {
     "name": "stdout",
     "output_type": "stream",
     "text": [
      "[2, 4, 6, 8, 10]\n"
     ]
    }
   ],
   "source": [
    "my_list = [1,2,3,4,5,6,7,8,9,10]\n",
    "even_list = []\n",
    "def while_list_func():\n",
    "    index = 0\n",
    "    while index < len(my_list):\n",
    "        element = my_list[index]\n",
    "        if element%2 == 0:\n",
    "            even_list.append(element)\n",
    "        index += 1\n",
    "while_list_func()\n",
    "print(even_list)"
   ]
  },
  {
   "cell_type": "code",
   "execution_count": 95,
   "metadata": {},
   "outputs": [
    {
     "name": "stdout",
     "output_type": "stream",
     "text": [
      "[2, 4, 6, 8, 10]\n"
     ]
    }
   ],
   "source": [
    "my_list = [1,2,3,4,5,6,7,8,9,10]\n",
    "even_list = []\n",
    "def for_list_func():\n",
    "    for i in my_list:\n",
    "        if i % 2 == 0:\n",
    "            even_list.append(i)\n",
    "for_list_func()\n",
    "print(even_list)\n"
   ]
  },
  {
   "cell_type": "code",
   "execution_count": 110,
   "metadata": {},
   "outputs": [
    {
     "name": "stdout",
     "output_type": "stream",
     "text": [
      "<class 'tuple'>\n",
      "<class 'str'>\n",
      "<class 'tuple'>\n",
      "6\n",
      "0\n",
      "1\n",
      "2\n",
      "good1\n",
      "good2\n",
      "good3\n",
      "good1\n",
      "good1\n",
      "good1\n",
      "good2\n"
     ]
    }
   ],
   "source": [
    "# 列表的元素是可以修改的，如果想要不能被修改，就用tuple元组\n",
    "# 空元组：变量名称=（）\n",
    "t1 = (\"heima\",\"python\")\n",
    "t2 = ()\n",
    "t3 = tuple()\n",
    "print(type(t1))\n",
    "# 如果元组里面只有一个数据，必须在后面写上逗号！！\n",
    "t4 = (\"heima\")\n",
    "print(type(t4))\n",
    "t5 = (\"heima\",)\n",
    "print(type(t5))\n",
    "# 元组也可以嵌套\n",
    "t5 = ((1,2,3),(4,5,6))\n",
    "element = t5[1][2] #注意符号的写法\n",
    "print(element)\n",
    "# 元组的操作\n",
    "index = t5.index((1,2,3))\n",
    "print(index)\n",
    "count = t5.count((1,2,3))\n",
    "print(count)\n",
    "print(len(t5)) #元组的长度\n",
    "\n",
    "t8 = (1,2,3,1,1,1,2)\n",
    "index = 0\n",
    "while index < len(t8):\n",
    "    print(f\"good{t8[index]}\")\n",
    "    index += 1"
   ]
  },
  {
   "cell_type": "code",
   "execution_count": 113,
   "metadata": {},
   "outputs": [
    {
     "name": "stdout",
     "output_type": "stream",
     "text": [
      "t9:(1, 2, ['itheima', 'itcast'])\n",
      "t9修改之后:(1, 2, ['黑马', 'itcast'])\n"
     ]
    }
   ],
   "source": [
    "# 尝试修改元组的内容\n",
    "# 只能修改元组里面列表里面的内容\n",
    "t9 = (1,2,[\"itheima\",\"itcast\"])\n",
    "print(f\"t9:{t9}\")\n",
    "t9[2][0] = \"黑马\"\n",
    "#t9[1] = 99 不可以修改\n",
    "print(f\"t9修改之后:{t9}\")"
   ]
  },
  {
   "cell_type": "code",
   "execution_count": 118,
   "metadata": {},
   "outputs": [
    {
     "name": "stdout",
     "output_type": "stream",
     "text": [
      "('zjl', 11, ['coding', 'music'])\n"
     ]
    }
   ],
   "source": [
    "t1 = (\"zjl\",11,['football','music'])\n",
    "index = t1.index(\"zjl\")\n",
    "name = t1[index]\n",
    "t1[2][0] = \"coding\"\n",
    "print(t1)"
   ]
  },
  {
   "cell_type": "code",
   "execution_count": 119,
   "metadata": {},
   "outputs": [
    {
     "name": "stdout",
     "output_type": "stream",
     "text": [
      "value=8\n",
      "itheima and itcast\n",
      "程序heima and 程序cast\n"
     ]
    }
   ],
   "source": [
    "# 字符串并不支持修改\n",
    "# 字符串可以替换：语法：字符串.repplace(字符串1，字符串2)\n",
    "# 功能：将字符串内的全部字符串1替换为字符串2\n",
    "# 注意：不是修改字符串本身，而是得到了一个新的字符串\n",
    "my_str = \"itheima and itcast\"\n",
    "value = my_str.index(\"and\")\n",
    "print(f\"value={value}\")\n",
    "new_my_str = my_str.replace(\"it\",\"程序\")\n",
    "print(my_str)\n",
    "print(new_my_str)"
   ]
  },
  {
   "cell_type": "code",
   "execution_count": null,
   "metadata": {},
   "outputs": [
    {
     "name": "stdout",
     "output_type": "stream",
     "text": [
      "['hello', 'python', 'itheima', 'itcast']\n"
     ]
    }
   ],
   "source": [
    "# 字符串的分割\n",
    "# 语法：字符串.split(分隔符字符串)\n",
    "# 功能：按照指定的分隔符字符串，将字符串划分为多个字符串，并存入列表对象中\n",
    "# 注意：字符串本身不变，而是得到了一个列表对象\n",
    "my_str = \"hello python itheima itcast\"\n",
    "my_str_list = my_str.split(\" \") #将字符串划分并存入列表\n",
    "print(my_str_list)"
   ]
  },
  {
   "cell_type": "markdown",
   "metadata": {},
   "source": [
    "# 字符串的规整操作（去除前后空格）\n",
    "语法：字符串.strip()\n",
    "# 字符串的规整操作（去除前后指定字符串）\n",
    "语法：字符串.strip(字符串)"
   ]
  },
  {
   "cell_type": "code",
   "execution_count": null,
   "metadata": {},
   "outputs": [
    {
     "name": "stdout",
     "output_type": "stream",
     "text": [
      "*it*\n",
      "1\n",
      "6\n"
     ]
    }
   ],
   "source": [
    "my_str = \"1*it*2\"\n",
    "new_my_str = my_str.strip(\"12\") #其实去除的是字符串1和字符串2\n",
    "print(new_my_str)\n",
    "\n",
    "count = my_str.count(\"i\")\n",
    "print(f\"count={count}\")\n",
    "num = len(my_str)\n",
    "print(f\"num={num}\")"
   ]
  },
  {
   "cell_type": "code",
   "execution_count": 130,
   "metadata": {},
   "outputs": [
    {
     "name": "stdout",
     "output_type": "stream",
     "text": [
      "2\n",
      "itheima|itcast|boxuegu\n",
      "['itheima', 'itcast', 'boxuegu']\n"
     ]
    }
   ],
   "source": [
    "my_str = \"itheima itcast boxuegu\"\n",
    "count = my_str.count(\"it\")\n",
    "print(count)\n",
    "new_my_str = my_str.replace(\" \",\"|\")\n",
    "print(new_my_str)\n",
    "my_str_list = new_my_str.split(\"|\")\n",
    "print(my_str_list)"
   ]
  },
  {
   "cell_type": "markdown",
   "metadata": {},
   "source": [
    "什么是序列\n",
    "序列的切片操作是什么\n",
    "序列：内容连续、有序，可以使用下标索引的一类数据容器\n",
    "列表、元组、字符串，均可以视为序列 \n",
    "切片：从一个序列中，取出一个子序列\n",
    "语法：序列（起始下标：结束下标：步长），结束下标是不包含的，结束在前一个元素的地方，结束下标为空就是一直取到结尾\n",
    "切片是得到一个新的序列"
   ]
  },
  {
   "cell_type": "code",
   "execution_count": null,
   "metadata": {},
   "outputs": [
    {
     "name": "stdout",
     "output_type": "stream",
     "text": [
      "结果1:[2, 3, 4]\n",
      "结果2：(0, 1, 2, 3, 4, 5, 6)\n",
      "结果3：0246\n",
      "结果3：76543210\n"
     ]
    }
   ],
   "source": [
    "# 对list进行切片，从1开始，4结束，默认步长为1\n",
    "my_list = [1,2,3,4,5,6]\n",
    "result1 = my_list[1:4] #默认步长是1，此处省略不写\n",
    "print(f\"结果1:{result1}\")\n",
    "\n",
    "# 对tuple进行切片，从头开始，到最后结束，步长为1\n",
    "my_tuple = (0,1,2,3,4,5,6)\n",
    "result2 = my_tuple[:] #起始和结束不写表示从头写到尾，步长为1可以省略\n",
    "print(f\"结果2：{result2}\")\n",
    "\n",
    "# 对str进行切片，从头开始，到最后结束，步长为2\n",
    "my_str = \"01234567\"\n",
    "result3 = my_str[::2]\n",
    "print(f\"结果3：{result3}\")\n",
    "\n",
    "# 对str进行切片，从头到尾，步长-1\n",
    "my_str = \"01234567\"\n",
    "result4 = my_str[::-1]\n",
    "print(f\"结果3：{result4}\")\n",
    "\n",
    "\n"
   ]
  },
  {
   "cell_type": "code",
   "execution_count": null,
   "metadata": {},
   "outputs": [
    {
     "name": "stdout",
     "output_type": "stream",
     "text": [
      "fed\n",
      "fed\n"
     ]
    }
   ],
   "source": [
    "my_str = \"abcdefg\"\n",
    "result1 = my_str[::-1][1:4]#倒序然后切片取出\n",
    "print(result1)\n",
    "\n",
    "result2 = my_str[3:6][::-1] #切片然后倒序\n",
    "print(result2)"
   ]
  },
  {
   "cell_type": "code",
   "execution_count": null,
   "metadata": {},
   "outputs": [
    {
     "name": "stdout",
     "output_type": "stream",
     "text": [
      "<class 'set'>\n",
      "{1, 2, 3}\n",
      "{1, 2, 3, 4}\n",
      "{2, 3, 4}\n",
      "2\n",
      "{3, 4}\n",
      "set3:{1}\n",
      "set1:{1, 2, 3}\n",
      "set2:{2, 3, 4, 7}\n",
      "在集合1中消除和2相同的:{1}\n",
      "集合合并之后：{1, 2, 3, 4, 7}\n",
      "1\n",
      "2\n",
      "3\n",
      "4\n",
      "5\n"
     ]
    }
   ],
   "source": [
    "# 集合\n",
    "# 为什么需要学习集合：不支持元素重复，相当于自带去重功能\n",
    "# 集合是无序的，所以集合不支持：下标索引访问\n",
    "# 定义集合\n",
    "my_set = {1,2,3,2,2}\n",
    "print(type(my_set))\n",
    "print(my_set)\n",
    "# 添加新元素\n",
    "# 可以定义空集合，然后取出列表中的元素添加到空集合中，实现去重\n",
    "my_set.add(4)\n",
    "print(my_set)\n",
    "# 移除元素\n",
    "my_set.remove(1)\n",
    "print(my_set)\n",
    "# 随机取出一个元素\n",
    "element = my_set.pop()\n",
    "print(element)\n",
    "print(my_set)\n",
    "\n",
    "set1 = {1,2,3,2,2}\n",
    "set2 = {4,2,3,4,7}\n",
    "# 2个集合的差集\n",
    "set3 = set1.difference(set2)\n",
    "print(f\"set3:{set3}\")\n",
    "print(f\"set1:{set1}\") # 不影响1\n",
    "print(f\"set2:{set2}\") # 取差集不影响本身\n",
    "\n",
    "# 在集合1中消除和2相同的\n",
    "set1.difference_update(set2)\n",
    "print(f\"在集合1中消除和2相同的:{set1}\")\n",
    "\n",
    "# 集合合并\n",
    "set1 = {1,2,3,2,2}\n",
    "set2 = {4,2,3,4,7}\n",
    "set3 = set1.union(set2)\n",
    "print(f\"集合合并之后：{set3}\")\n",
    "\n",
    "# 集合的遍历\n",
    "# 集合不支持下标索引，不能用while循环\n",
    "# 用for循环\n",
    "set1 = {1,2,3,4,5}\n",
    "for element in set1:\n",
    "    print(element)\n",
    "\n",
    "# 集合.clear() 是清空集合\n"
   ]
  },
  {
   "cell_type": "code",
   "execution_count": null,
   "metadata": {},
   "outputs": [
    {
     "name": "stdout",
     "output_type": "stream",
     "text": [
      "1\n",
      "w的yuwen信息:77\n"
     ]
    }
   ],
   "source": [
    "# 字典\n",
    "# 定义字典字面量\n",
    "my_dict1 = {\"a\":1, \"b\":2, \"c\":3}\n",
    "my_dict2 = {}\n",
    "my_dict3 = dict()\n",
    "# 字典的key不可以重复，输出的时候会自动把重复的删除掉\n",
    "\n",
    "# 从字典中基于key获得value\n",
    "score = my_dict1[\"a\"]\n",
    "print(score)\n",
    "# key不可以为字典，value可以是任意数据类型\n",
    "my_dict4 = {\"w\":{\"yuwen\":77, \"shuxue\":66, \"yingyu\":33},\"z\":{\"yuwen\":70, \"shuxue\":60, \"yingyu\":30},}\n",
    "scorew1 = my_dict4[\"w\"][\"yuwen\"]\n",
    "print(f\"w的yuwen信息:{scorew1}\")\n"
   ]
  },
  {
   "cell_type": "code",
   "execution_count": 167,
   "metadata": {},
   "outputs": [
    {
     "name": "stdout",
     "output_type": "stream",
     "text": [
      "{'a': 4, 'b': 2, 'c': 3}\n",
      "4\n",
      "{'b': 2, 'c': 3}\n",
      "dict_keys(['b', 'c'])\n",
      "字典的key是b\n",
      "字典b的value是:2\n",
      "字典的key是c\n",
      "字典c的value是:3\n"
     ]
    }
   ],
   "source": [
    "# 字典新增和修改元素的写法一模一样\n",
    "my_dict = {\"a\":1, \"b\":2, \"c\":3}\n",
    "my_dict[\"a\"] = 4\n",
    "print(my_dict)\n",
    "# 删除元素\n",
    "score = my_dict.pop(\"a\")\n",
    "print(score)\n",
    "print(my_dict)\n",
    "# 获取全部key\n",
    "keys = my_dict.keys()\n",
    "print(keys)\n",
    "\n",
    "# 循环\n",
    "for name in my_dict:\n",
    "    print(f\"字典的key是{name}\")\n",
    "    print(f\"字典{name}的value是:{my_dict[name]}\")\n"
   ]
  },
  {
   "cell_type": "markdown",
   "metadata": {},
   "source": [
    "数据容器分类总结\n",
    "列表：一批数据，可以修改，可以重复的存储场景\n",
    "元组：一批数据，不可以修改，可以重复的存储场景\n",
    "字符串：一串字符的存储场景\n",
    "集合：一批数据，去重存储场景\n",
    "字典：一批数据，可以用key检索value的存储场景"
   ]
  },
  {
   "cell_type": "code",
   "execution_count": null,
   "metadata": {},
   "outputs": [
    {
     "name": "stdout",
     "output_type": "stream",
     "text": [
      "列表 元素个数：5\n",
      "元组 元素个数：5\n",
      "字符串元素个数：7\n",
      "集合 元素个数：5\n",
      "字典 元素个数：5\n",
      "\n",
      "列表 最大元素：5\n",
      "元组 最大元素：5\n",
      "字符串 最大元素：7\n",
      "集合 最大元素：5\n",
      "字典 最大元素：5\n",
      "\n",
      "列表转列表：[1, 5, 7, 4, 5]\n",
      "元组转列表：[1, 2, 3, 4, 5]\n",
      "列表转元组：(1, 5, 7, 4, 5)\n",
      "字典转元组：('key1', 'key2', 'key3', 'key4', 'key5')\n",
      "排序\n",
      "['key1', 'key2', 'key3', 'key4', 'key5']\n",
      "[1, 4, 5, 5, 7]\n",
      "[7, 5, 5, 4, 1]\n"
     ]
    }
   ],
   "source": [
    "my_list = [1,5,7,4,5]\n",
    "my_tuple = (1,2,3,4,5)\n",
    "my_str = \"abcdefg\"\n",
    "my_set = {1,2,3,4,5}\n",
    "my_dict = {\"key1\":3, \"key2\":2, \"key3\":3, \"key4\":4, \"key5\":5}\n",
    "\n",
    "# len获取元素个数\n",
    "print(f\"列表 元素个数：{len(my_list)}\")\n",
    "print(f\"元组 元素个数：{len(my_tuple)}\")\n",
    "print(f\"字符串元素个数：{len(my_str)}\")\n",
    "print(f\"集合 元素个数：{len(my_set)}\")\n",
    "print(f\"字典 元素个数：{len(my_dict)}\")\n",
    "\n",
    "print()\n",
    "# max最大元素\n",
    "print(f\"列表 最大元素：{len(my_list)}\")\n",
    "print(f\"元组 最大元素：{len(my_tuple)}\")\n",
    "print(f\"字符串 最大元素：{len(my_str)}\")\n",
    "print(f\"集合 最大元素：{len(my_set)}\")\n",
    "print(f\"字典 最大元素：{len(my_dict)}\")\n",
    "\n",
    "print()\n",
    "# 容器转换成列表\n",
    "print(f\"列表转列表：{list(my_list)}\")\n",
    "print(f\"元组转列表：{list(my_tuple)}\")\n",
    "\n",
    "# 容易转元组\n",
    "print(f\"列表转元组：{tuple(my_list)}\")\n",
    "print(f\"字典转元组：{tuple(my_dict)}\") # value会丢失\n",
    "\n",
    "# 字典可以转换成别的容器，只是丢失了value，但是其他容器无法转换成字典\n",
    "\n",
    "print(\"排序\")\n",
    "# 排序\n",
    "print(sorted(my_dict)) # 字典只能对key进行排序\n",
    "print(sorted(my_list))\n",
    "print(sorted(my_list, reverse=True)) # 把结果反过来"
   ]
  },
  {
   "cell_type": "code",
   "execution_count": 181,
   "metadata": {},
   "outputs": [
    {
     "name": "stdout",
     "output_type": "stream",
     "text": [
      "True\n",
      "True\n",
      "True\n",
      "True\n",
      "False\n"
     ]
    }
   ],
   "source": [
    "# 字符串进行比较实际上是基于数字的ASCII码值大小进行比较的\n",
    "# 字符串是按位比较，一位一位进行比较，只要有一位大，整体就大\n",
    "print(\"abd\" > \"abc\")\n",
    "print(\"abd\" > \"ab\")\n",
    "print(\"a\" > \"Ac\")\n",
    "print(\"a\" > \"A\")\n",
    "print(\"A\" > \"a\")"
   ]
  },
  {
   "cell_type": "code",
   "execution_count": 186,
   "metadata": {},
   "outputs": [
    {
     "name": "stdout",
     "output_type": "stream",
     "text": [
      "11\n",
      "4\n",
      "3\n"
     ]
    }
   ],
   "source": [
    "# 使用多个变量，接受多个返回值，可以返回不同数据类型\n",
    "def test_return():\n",
    "    return 11, 4, 3\n",
    "\n",
    "x,y,z = test_return()\n",
    "print(x)\n",
    "print(y)\n",
    "print(z)\n"
   ]
  },
  {
   "cell_type": "code",
   "execution_count": 191,
   "metadata": {},
   "outputs": [
    {
     "name": "stdout",
     "output_type": "stream",
     "text": [
      "您的名字是：x,年龄是：20,性别是：m\n",
      "您的名字是：x,年龄是：20,性别是：m\n",
      "您的名字是：x,年龄是：20,性别是：m\n",
      "name:tom, age:20, gender:m\n",
      "name:Rose, age:18, gender:wm\n",
      "('TOM',)\n",
      "<class 'tuple'>\n",
      "('TOM', 18)\n",
      "<class 'tuple'>\n",
      "{'name': 'TOM', 'age': 18}\n",
      "<class 'dict'>\n"
     ]
    }
   ],
   "source": [
    "def user_info(name, age, gender):\n",
    "    print(f\"您的名字是：{name},年龄是：{age},性别是：{gender}\")\n",
    "\n",
    "\n",
    "# 位置参数和关键字混用时，位置参数必须在关键字参数的前面，\n",
    "# 但是关键字参数之间不存在先后\n",
    "# 关键字传参\n",
    "user_info(name=\"x\", age=20, gender=\"m\")\n",
    "# 可以不按照固定顺序\n",
    "user_info(age=20,gender=\"m\", name=\"x\")\n",
    "# 可以和位置参数混用，位置参数必须在关键字参数的前面，\n",
    "user_info(\"x\", age=20, gender=\"m\")\n",
    "\n",
    "# 缺省参数\n",
    "# 当调用函数时没有传递参数，就会使用默认是用缺省参数对应的值\n",
    "def user_info(name, age, gender = \"m\"): \n",
    "    # 设置默认值必须在最后，不然会报错\n",
    "    print(f\"name:{name}, age:{age}, gender:{gender}\")\n",
    "\n",
    "user_info(\"tom\", 20) #使用默认的性别设置\n",
    "user_info(\"Rose\", 18, \"wm\") \n",
    "\n",
    "# 不定长参数,想传多少参数都可以，位置不定长，*号\n",
    "def user_info(*args):\n",
    "    print(args)\n",
    "    print(type(args))\n",
    "# (\"TOM\",)\n",
    "user_info(\"TOM\")\n",
    "# (\"TOM\", 18)\n",
    "user_info(\"TOM\", 18)\n",
    "\n",
    "# 不定长参数,想传多少参数都可以，关键字不定长，**号\n",
    "# kw表示key-word\n",
    "def user_info(**kwargs):\n",
    "    print(kwargs)\n",
    "    print(type(kwargs))\n",
    "\n",
    "user_info(name = \"TOM\", age = 18)\n",
    "\n"
   ]
  },
  {
   "cell_type": "code",
   "execution_count": null,
   "metadata": {},
   "outputs": [
    {
     "name": "stdout",
     "output_type": "stream",
     "text": [
      "3\n",
      "type:<class 'function'>\n"
     ]
    }
   ],
   "source": [
    "# 函数作为参数传递\n",
    "def compute(x,y):\n",
    "    return x + y\n",
    "# 定义一个函数，接收另一个函数作为传入参数\n",
    "def test_func(compute):\n",
    "    result = compute(1,2) # 确定compute是函数\n",
    "    print(result)\n",
    "    print(f\"type:{type(compute)}\")\n",
    "# 调用，并传入函数\n",
    "test_func(compute)\n",
    "\n",
    "# 这是一种计算逻辑的传递，而非数据的传递\n"
   ]
  },
  {
   "cell_type": "code",
   "execution_count": null,
   "metadata": {},
   "outputs": [
    {
     "name": "stdout",
     "output_type": "stream",
     "text": [
      "3\n",
      "type:<class 'function'>\n"
     ]
    }
   ],
   "source": [
    "# def关键字，可以定义带有名称的函数\n",
    "# lambda关键字，可以定义匿名的函数（无名称）\n",
    "# 有名称的函数可以使用多次，匿名函数只能使用一次\n",
    "def tes_func(compute):\n",
    "    result = compute(1,2)\n",
    "    print(result)\n",
    "\n",
    "# 将匿名函数作为参数传入\n",
    "test_func(lambda x,y: x+y)\n",
    "\n",
    "# lambda函数的好处：简洁\n",
    "# lambda的语法\n",
    "# lambda 传入参数： 函数体（一行代码）"
   ]
  },
  {
   "cell_type": "markdown",
   "metadata": {},
   "source": [
    "UTF-8是全球通用的编码格式\n",
    "文件的读取操作：打开文件，读写文件，关闭文件\n",
    "open(name,mode,encoding)\n",
    "name:是要打开的目标文件名的字符串（可以包含文件所在的具体路径\n",
    "mode:设置打开文件的模式（访问模式）：只读、写入、追加\n",
    "encoding：编码格式，推荐（UTF-8）\n",
    "r模式：以只读方式打开文件。\n",
    "w模式：打开一个文件只用于写入。如果该文件已经存在则打开文件，并从头开始编辑，原有内容会被删除。如果该文件不存在，则创建新文件\n",
    "a模式：打开一个文件用于追加。如果该文件已经存在，新的内容会被写入到已经有的内容之后，如果该文件不存在，创建新文件进行写入。"
   ]
  },
  {
   "cell_type": "code",
   "execution_count": 2,
   "metadata": {},
   "outputs": [
    {
     "name": "stdout",
     "output_type": "stream",
     "text": [
      "<class '_io.TextIOWrapper'>\n",
      "每一行的数据是：nihao\n",
      "\n",
      "每一行的数据是：woshi\n",
      "\n",
      "每一行的数据是：zyt\n"
     ]
    }
   ],
   "source": [
    "# 文件操作\n",
    "# 打开文件\n",
    "f = open(\"D:/测试.txt\",\"r\", encoding=\"UTF-8\") #关键字传参\n",
    "print(type(f))\n",
    "\n",
    "# 读取文件\n",
    "# print(f\"读取1个字节的结果:{f.read(1)}\")\n",
    "# print(f\"读取1个字节的结果:{f.read(1)}\")\n",
    "# print(f\"读取全部字节的结果，会接着上面的读取：{f.read()}\")\n",
    "\n",
    "# 读取文件 readLines(),\\n是换行符号\n",
    "#lines = f.readlines() # 读取文件的全部行，封装到列表中\n",
    "#print(f\"lines对象的类型：{type(lines)}\")\n",
    "#print(f\"lines对象的内容是:{lines}\")\n",
    "\n",
    "# readline()一次读取一行\n",
    "# line1 = f.readline()\n",
    "# line2 = f.readline()\n",
    "# line3 = f.readline()\n",
    "# print(f\"1:{line1}\")\n",
    "# print(f\"2:{line2}\")\n",
    "# print(f\"3:{line3}\")\n",
    "\n",
    "# for循环读取文件行\n",
    "# for line in f:\n",
    "#     print(f\"每一行的数据是：{line}\")\n",
    "\n",
    "# 文件的关闭\n",
    "# f.close()\n",
    "\n",
    "# with open语法操作文件\n",
    "with open(\"D:/测试.txt\",\"r\", encoding=\"UTF-8\") as f:\n",
    "    for line in f:\n",
    "        print(f\"每一行的数据是：{line}\")\n",
    "\n"
   ]
  },
  {
   "cell_type": "markdown",
   "metadata": {},
   "source": [
    "如果strip()的参数为空，那么会默认删除字符串头和尾的空白字符(包括\\n，\\r，\\t这些)。此函数只会删除头和尾的字符，中间的不会删除。"
   ]
  },
  {
   "cell_type": "code",
   "execution_count": 251,
   "metadata": {},
   "outputs": [
    {
     "name": "stdout",
     "output_type": "stream",
     "text": [
      "hello\n",
      "nihao\n",
      "heima\n"
     ]
    }
   ],
   "source": [
    "# 方法一，全部读取成字符串，然后count\n",
    "f = open(\"D:/测试.txt\",\"r\", encoding=\"UTF-8\") \n",
    "# f_str = f.read()\n",
    "# num = f_str.count(\"zyt\")\n",
    "# print(num)\n",
    "\n",
    "# 读取内容一行一行读取\n",
    "count = 0\n",
    "for line in f:\n",
    "    line = line.strip() # 去除开头和结尾空格\n",
    "    # words = line.split(\" \")\n",
    "    print(line)\n",
    "    # print(words)\n",
    "#     for word in word:\n",
    "#         if word == \"zyt\":\n",
    "#             count += 1\n",
    "# print(count)\n",
    "f.close()"
   ]
  },
  {
   "cell_type": "code",
   "execution_count": 245,
   "metadata": {},
   "outputs": [
    {
     "name": "stdout",
     "output_type": "stream",
     "text": [
      "hello heimahello heima\n",
      "hello heima\n",
      "hello heima\n",
      "hello heima\n"
     ]
    }
   ],
   "source": [
    "# 文件的写入\n",
    "\n",
    "# 打开文件,test文件此时不存在，w会创建原本不存在的文件\n",
    "# w模式会清空之前的内容再写\n",
    "# f = open(\"D:/test.txt\",\"w\", encoding=\"UTF-8\") \n",
    "# 如果用a模式，就可以追加内容\n",
    "f = open(\"D:/test.txt\",\"a\", encoding=\"UTF-8\") \n",
    "# 文件写入内存中\n",
    "f.write(\"\\nhello heima\")\n",
    "# 内容刷新之后，将内存中积攒的内容写入到硬盘的文件中\n",
    "f.flush()\n",
    "# f.close() # close方法内置了flush的功能\n",
    "\"\"\"\n",
    "直接调用write的时候，内容并未真正写入文件，而是会积攒在程序\n",
    "内存中，称之为缓冲区，当调用flush的时候，内容会真正写入文件。\n",
    "这样做是避免频繁的操作硬盘，导致效率下降\n",
    "\"\"\"\n",
    "f = open(\"D:/test.txt\",\"r\", encoding=\"UTF-8\") \n",
    "print(f.read())\n",
    "f.close()"
   ]
  },
  {
   "cell_type": "markdown",
   "metadata": {},
   "source": [
    "\"\"\"\n",
    "演示文件操作综合案例：文件备份\n",
    "\"\"\"\n",
    "\n",
    "# 打开文件得到文件对象，准备读取\n",
    "fr = open(\"D:/test.txt\",\"r\", encoding=\"UTF-8\")\n",
    "# 打开文件得到文件对象，准备写入\n",
    "fw = open(\"D:/test.txt\",\"w\", encoding=\"UTF-8\")\n",
    "# for循环读取文件\n",
    "for line in fr:\n",
    "    line = line.strip()\n",
    "    # 判断内容，将满足的内容写出\n",
    "    if line.split(\",\")[4] == \"测试\"：\n",
    "        continue # continue进入下一次循环，这一次后面的内容就跳过了\n",
    "\n",
    "        # 将内容写出去\n",
    "        fw.write(line)\n",
    "        # 由于前面对内容进行了strip操作，所以要手动写回来\n",
    "        fw.write(\"\\n)\n",
    "\n",
    "fr.close()\n",
    "fw.close()"
   ]
  },
  {
   "cell_type": "markdown",
   "metadata": {},
   "source": [
    "BUG\n",
    "捕获异常的方法：\n",
    "try:\n",
    "    可能发生错误的代码\n",
    "except：\n",
    "    如果出现异常执行的代码"
   ]
  },
  {
   "cell_type": "code",
   "execution_count": 253,
   "metadata": {},
   "outputs": [],
   "source": [
    "try:\n",
    "    f = open(\"D:/abc.txt\",\"r\", encoding=\"UTF-8\")\n",
    "except:\n",
    "    print(\"出现异常了，改成w模式打开\")\n",
    "    f = open(\"D:/abc.txt\",\"w\", encoding=\"UTF-8\")\n",
    "f.close()"
   ]
  },
  {
   "cell_type": "code",
   "execution_count": null,
   "metadata": {},
   "outputs": [],
   "source": [
    "try:\n",
    "   print(name)\n",
    "except NameError as e:\n",
    "   print(\"出现了未定义变量的异常\")\n",
    "   print(e)"
   ]
  },
  {
   "cell_type": "code",
   "execution_count": 254,
   "metadata": {},
   "outputs": [
    {
     "name": "stdout",
     "output_type": "stream",
     "text": [
      "division by zero\n"
     ]
    }
   ],
   "source": [
    "# 捕获多个异常\n",
    "try:\n",
    "    print(1/0)\n",
    "except(NameError,ZeroDivisionError) as e:\n",
    "    print(e)\n"
   ]
  },
  {
   "cell_type": "code",
   "execution_count": null,
   "metadata": {},
   "outputs": [
    {
     "name": "stdout",
     "output_type": "stream",
     "text": [
      "division by zero\n"
     ]
    }
   ],
   "source": [
    "# 捕获所有异常,不指定待捕获的异常是什么\n",
    "try:\n",
    "    print(1/0)\n",
    "    print(name)\n",
    "except Exception as e:\n",
    "    print(e)\n"
   ]
  },
  {
   "cell_type": "code",
   "execution_count": null,
   "metadata": {},
   "outputs": [
    {
     "name": "stdout",
     "output_type": "stream",
     "text": [
      "出现异常了\n"
     ]
    }
   ],
   "source": [
    "# 异常的else和finally用法\n",
    "# finally表示无论有没有异常都要执行\n",
    "# try表示有可能出现异常\n",
    "try:\n",
    "    f = open(\"D:/123.txt\",\"r\",encoding=\"UTF-8\")\n",
    "except Exception as e:\n",
    "    print(\"出现异常了\")\n",
    "    f = open(\"D:/123.txt\",\"w\",encoding=\"UTF-8\")\n",
    "else:\n",
    "    print(\"没有异常\")\n",
    "finally:\n",
    "    f.close()"
   ]
  },
  {
   "cell_type": "code",
   "execution_count": 260,
   "metadata": {},
   "outputs": [
    {
     "name": "stdout",
     "output_type": "stream",
     "text": [
      "func2 开始执行\n",
      "func1 开始执行\n",
      "出现异常了，异常的信息是：division by zero\n"
     ]
    }
   ],
   "source": [
    "# 异常的传递\n",
    "def func1():\n",
    "    print(\"func1 开始执行\")\n",
    "    num = 1/0 #肯定有异常\n",
    "    print(\"func1 结束执行\")\n",
    "\n",
    "def func2():\n",
    "    print(\"func2 开始执行\")\n",
    "    func1()\n",
    "    print(\"func2 结束执行\")\n",
    "\n",
    "def main():\n",
    "    try:\n",
    "        func2()\n",
    "    except Exception as e:\n",
    "        print(f\"出现异常了，异常的信息是：{e}\")\n",
    "main()"
   ]
  },
  {
   "cell_type": "code",
   "execution_count": null,
   "metadata": {},
   "outputs": [],
   "source": [
    "# 模块就是python文件，以.py结尾，模块能定义函数，类和变量\n",
    "# 常用的组合形式如下\n",
    "# import 模块名\n",
    "# from 模块名 import 类、变量、方法等\n",
    "# from 模块名 import *\n",
    "# import 模块名 as 别名\n",
    "# from 模块名 import 功能名 as 别名"
   ]
  },
  {
   "cell_type": "code",
   "execution_count": null,
   "metadata": {},
   "outputs": [
    {
     "name": "stdout",
     "output_type": "stream",
     "text": [
      "nihao\n",
      "wohao\n"
     ]
    }
   ],
   "source": [
    "# 使用import导入time模块使用sleep功能\n",
    "import time # 按住Ctrl点击time可以查看time模块源代码\n",
    "print(\"nihao\")\n",
    "time.sleep(5) # 睡眠五秒 sleep 其实就是time模块里面的一个函数\n",
    "print(\"wohao\")\n"
   ]
  },
  {
   "cell_type": "code",
   "execution_count": null,
   "metadata": {},
   "outputs": [
    {
     "name": "stdout",
     "output_type": "stream",
     "text": [
      "nihao\n",
      "wohao\n"
     ]
    }
   ],
   "source": [
    "# 单独导入具体的功能\n",
    "from time import sleep\n",
    "print(\"nihao\")\n",
    "time.sleep(2) # 睡眠2秒\n",
    "print(\"wohao\")"
   ]
  },
  {
   "cell_type": "code",
   "execution_count": null,
   "metadata": {},
   "outputs": [
    {
     "name": "stdout",
     "output_type": "stream",
     "text": [
      "nihao\n",
      "wohao\n"
     ]
    }
   ],
   "source": [
    "# 使用*导入time模块的全部功能\n",
    "# 但是模块里面如果使用all,可以自己定义导入哪些功能\n",
    "from time import *\n",
    "print(\"nihao\")\n",
    "sleep(1) # 不用写time.\n",
    "print(\"wohao\")"
   ]
  },
  {
   "cell_type": "code",
   "execution_count": null,
   "metadata": {},
   "outputs": [
    {
     "name": "stdout",
     "output_type": "stream",
     "text": [
      "nihao\n",
      "wohao\n"
     ]
    }
   ],
   "source": [
    "# 有的模块名字比较长，用这个方法对模块进行改名\n",
    "import time as t\n",
    "print(\"nihao\")\n",
    "t.sleep(2) # 睡眠2秒\n",
    "print(\"wohao\")\n"
   ]
  },
  {
   "cell_type": "code",
   "execution_count": 270,
   "metadata": {},
   "outputs": [
    {
     "name": "stdout",
     "output_type": "stream",
     "text": [
      "30\n"
     ]
    }
   ],
   "source": [
    "# 自定义个性化模块\n",
    "import my_module1\n",
    "\n",
    "my_module1.test(10,20) #调用自定义的模块里面的函数test\n",
    "\n",
    "# 注意：当导入多个模块的时候，且模块内有同名功能，当调用这个同名\n",
    "# 功能的时候，调用到的是后面导入的模块的功能\n",
    "# 即后面最后一次的调用会把前面覆盖掉"
   ]
  },
  {
   "cell_type": "code",
   "execution_count": 281,
   "metadata": {},
   "outputs": [
    {
     "name": "stdout",
     "output_type": "stream",
     "text": [
      "3\n"
     ]
    }
   ],
   "source": [
    "from my_module1 import test \n",
    "# 用这种语法的时候，__name__就不会标记为__main__\n",
    "test(1,2)"
   ]
  },
  {
   "cell_type": "code",
   "execution_count": null,
   "metadata": {},
   "outputs": [],
   "source": [
    "# __init.py__标识当前文件夹是python包"
   ]
  },
  {
   "cell_type": "markdown",
   "metadata": {},
   "source": [
    "python中常见的第三方包（非python官方）\n",
    "科学计算中常用的：numpy包\n",
    "数据分析中常用的：pandas包\n",
    "大数据计算中常用的：pyspark、apach-flink包\n",
    "图形可视化常用的：matplotlib、pyecharts\n",
    "人工智能常用的包：tensorlow\n",
    "由于是第三方"
   ]
  },
  {
   "cell_type": "markdown",
   "metadata": {},
   "source": [
    "https://cloud.tencent.com/developer/article/2421043\n",
    "关于main"
   ]
  },
  {
   "cell_type": "markdown",
   "metadata": {},
   "source": [
    "什么是json:\n",
    "JSON是一种轻量级的数据交互格式。可以按照JSON指定的格式去组织和封装数据。\n",
    "JSON本质上是一个带有特定格式的字符串。\n",
    "\n",
    "主要功能：JSON是一种在各个编程语言中流通的数据格式，负责不同编程语言中的数据传递和交互。类似于：\n",
    "国际通用语言-英语\n",
    "中国56个民族不同地区通用语言-普通话\n",
    "\n",
    "JSON功能：\n",
    "让不同的语言能够相互通用的互相传递数据，JSON就是一种非常良好的中转数据格式。\n",
    "Python格式数据-Json数据格式-C语言接受Json格式数据并转化为C格式数据继续使用\n",
    "\n",
    "JSON和python可以无缝切换。JSON就是python中的字典，或者列表中嵌套字典"
   ]
  },
  {
   "cell_type": "markdown",
   "metadata": {},
   "source": [
    "JSON格式数据转化：\n",
    "通过data = json.dumps(data)\n",
    "如果有中文可以带上：ensure_ascii = False参数来确保中文正常转换\n",
    "通过 json_str = json.loads(data)方法把json数据转化为python列表或者字典"
   ]
  }
 ],
 "metadata": {
  "kernelspec": {
   "display_name": "base",
   "language": "python",
   "name": "python3"
  },
  "language_info": {
   "codemirror_mode": {
    "name": "ipython",
    "version": 3
   },
   "file_extension": ".py",
   "mimetype": "text/x-python",
   "name": "python",
   "nbconvert_exporter": "python",
   "pygments_lexer": "ipython3",
   "version": "3.11.7"
  }
 },
 "nbformat": 4,
 "nbformat_minor": 2
}
